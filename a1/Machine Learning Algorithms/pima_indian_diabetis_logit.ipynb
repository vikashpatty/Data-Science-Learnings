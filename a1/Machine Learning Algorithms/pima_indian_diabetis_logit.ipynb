{
 "cells": [
  {
   "cell_type": "code",
   "execution_count": 1,
   "metadata": {},
   "outputs": [],
   "source": [
    "#Import required modules for the problem\n",
    "import pandas as pd\n",
    "import matplotlib.pyplot as plt\n",
    "from sklearn.model_selection import train_test_split\n",
    "from sklearn.linear_model import LogisticRegression\n",
    "import seaborn as sns\n",
    "import numpy as np\n",
    "from sklearn.metrics import confusion_matrix\n",
    "#Extract data\n",
    "df=pd.read_excel('pima_indian_diabetes_dataset.xlsm',names=['Pregnancies', 'Glucose', 'BloodPressure', 'SkinThickness', 'Insulin', 'BMI', 'DiabetesPedigreeFunction', 'Age', 'Outcome'])"
   ]
  },
  {
   "cell_type": "markdown",
   "metadata": {},
   "source": [
    "# Exploratory data analysis"
   ]
  },
  {
   "cell_type": "code",
   "execution_count": 2,
   "metadata": {},
   "outputs": [
    {
     "data": {
      "text/html": [
       "<div>\n",
       "<style scoped>\n",
       "    .dataframe tbody tr th:only-of-type {\n",
       "        vertical-align: middle;\n",
       "    }\n",
       "\n",
       "    .dataframe tbody tr th {\n",
       "        vertical-align: top;\n",
       "    }\n",
       "\n",
       "    .dataframe thead th {\n",
       "        text-align: right;\n",
       "    }\n",
       "</style>\n",
       "<table border=\"1\" class=\"dataframe\">\n",
       "  <thead>\n",
       "    <tr style=\"text-align: right;\">\n",
       "      <th></th>\n",
       "      <th>Pregnancies</th>\n",
       "      <th>Glucose</th>\n",
       "      <th>BloodPressure</th>\n",
       "      <th>SkinThickness</th>\n",
       "      <th>Insulin</th>\n",
       "      <th>BMI</th>\n",
       "      <th>DiabetesPedigreeFunction</th>\n",
       "      <th>Age</th>\n",
       "      <th>Outcome</th>\n",
       "    </tr>\n",
       "  </thead>\n",
       "  <tbody>\n",
       "    <tr>\n",
       "      <th>0</th>\n",
       "      <td>6</td>\n",
       "      <td>148</td>\n",
       "      <td>72</td>\n",
       "      <td>35</td>\n",
       "      <td>0</td>\n",
       "      <td>33.6</td>\n",
       "      <td>0.627</td>\n",
       "      <td>50</td>\n",
       "      <td>1</td>\n",
       "    </tr>\n",
       "    <tr>\n",
       "      <th>1</th>\n",
       "      <td>1</td>\n",
       "      <td>85</td>\n",
       "      <td>66</td>\n",
       "      <td>29</td>\n",
       "      <td>0</td>\n",
       "      <td>26.6</td>\n",
       "      <td>0.351</td>\n",
       "      <td>31</td>\n",
       "      <td>0</td>\n",
       "    </tr>\n",
       "    <tr>\n",
       "      <th>2</th>\n",
       "      <td>8</td>\n",
       "      <td>183</td>\n",
       "      <td>64</td>\n",
       "      <td>0</td>\n",
       "      <td>0</td>\n",
       "      <td>23.3</td>\n",
       "      <td>0.672</td>\n",
       "      <td>32</td>\n",
       "      <td>1</td>\n",
       "    </tr>\n",
       "    <tr>\n",
       "      <th>3</th>\n",
       "      <td>1</td>\n",
       "      <td>89</td>\n",
       "      <td>66</td>\n",
       "      <td>23</td>\n",
       "      <td>94</td>\n",
       "      <td>28.1</td>\n",
       "      <td>0.167</td>\n",
       "      <td>21</td>\n",
       "      <td>0</td>\n",
       "    </tr>\n",
       "    <tr>\n",
       "      <th>4</th>\n",
       "      <td>0</td>\n",
       "      <td>137</td>\n",
       "      <td>40</td>\n",
       "      <td>35</td>\n",
       "      <td>168</td>\n",
       "      <td>43.1</td>\n",
       "      <td>2.288</td>\n",
       "      <td>33</td>\n",
       "      <td>1</td>\n",
       "    </tr>\n",
       "  </tbody>\n",
       "</table>\n",
       "</div>"
      ],
      "text/plain": [
       "   Pregnancies  Glucose  BloodPressure  SkinThickness  Insulin   BMI  \\\n",
       "0            6      148             72             35        0  33.6   \n",
       "1            1       85             66             29        0  26.6   \n",
       "2            8      183             64              0        0  23.3   \n",
       "3            1       89             66             23       94  28.1   \n",
       "4            0      137             40             35      168  43.1   \n",
       "\n",
       "   DiabetesPedigreeFunction  Age  Outcome  \n",
       "0                     0.627   50        1  \n",
       "1                     0.351   31        0  \n",
       "2                     0.672   32        1  \n",
       "3                     0.167   21        0  \n",
       "4                     2.288   33        1  "
      ]
     },
     "execution_count": 2,
     "metadata": {},
     "output_type": "execute_result"
    }
   ],
   "source": [
    "df.head()"
   ]
  },
  {
   "cell_type": "code",
   "execution_count": 3,
   "metadata": {},
   "outputs": [
    {
     "name": "stdout",
     "output_type": "stream",
     "text": [
      "(768, 9)\n",
      "Outcome\n",
      "0    500\n",
      "1    268\n",
      "dtype: int64\n"
     ]
    }
   ],
   "source": [
    "print(df.shape)\n",
    "print(df.groupby('Outcome').size())"
   ]
  },
  {
   "cell_type": "code",
   "execution_count": 4,
   "metadata": {},
   "outputs": [
    {
     "name": "stdout",
     "output_type": "stream",
     "text": [
      "<class 'pandas.core.frame.DataFrame'>\n",
      "RangeIndex: 768 entries, 0 to 767\n",
      "Data columns (total 9 columns):\n",
      "Pregnancies                 768 non-null int64\n",
      "Glucose                     768 non-null int64\n",
      "BloodPressure               768 non-null int64\n",
      "SkinThickness               768 non-null int64\n",
      "Insulin                     768 non-null int64\n",
      "BMI                         768 non-null float64\n",
      "DiabetesPedigreeFunction    768 non-null float64\n",
      "Age                         768 non-null int64\n",
      "Outcome                     768 non-null int64\n",
      "dtypes: float64(2), int64(7)\n",
      "memory usage: 54.1 KB\n",
      "None\n"
     ]
    }
   ],
   "source": [
    "print(df.info())\n",
    "#Note that there are no null values but there are spaces in few variables. Let us replace spaces with np.nan"
   ]
  },
  {
   "cell_type": "code",
   "execution_count": 5,
   "metadata": {},
   "outputs": [],
   "source": [
    "#If any of the feature contains spaces, then fill with np.nan and convert the Object type array to float\n",
    "for col_nm in df.columns:\n",
    "    if df[col_nm].dtype == 'O':\n",
    "        print(col_nm, 'contains', df[col_nm].str.isspace().sum(),'spaces')\n",
    "        df[col_nm]=pd.to_numeric(df[col_nm],errors='coerce') # If ‘coerce’, then invalid parsing will be set as NaN"
   ]
  },
  {
   "cell_type": "code",
   "execution_count": 6,
   "metadata": {},
   "outputs": [
    {
     "name": "stdout",
     "output_type": "stream",
     "text": [
      "Pregnancies                 0\n",
      "Glucose                     0\n",
      "BloodPressure               0\n",
      "SkinThickness               0\n",
      "Insulin                     0\n",
      "BMI                         0\n",
      "DiabetesPedigreeFunction    0\n",
      "Age                         0\n",
      "Outcome                     0\n",
      "dtype: int64\n"
     ]
    }
   ],
   "source": [
    "#Missing or Null Data points\n",
    "print(df.isnull().sum())"
   ]
  },
  {
   "cell_type": "code",
   "execution_count": 7,
   "metadata": {},
   "outputs": [
    {
     "name": "stdout",
     "output_type": "stream",
     "text": [
      "<class 'pandas.core.frame.DataFrame'>\n",
      "RangeIndex: 768 entries, 0 to 767\n",
      "Data columns (total 9 columns):\n",
      "Pregnancies                 768 non-null int64\n",
      "Glucose                     768 non-null int64\n",
      "BloodPressure               768 non-null int64\n",
      "SkinThickness               768 non-null int64\n",
      "Insulin                     768 non-null int64\n",
      "BMI                         768 non-null float64\n",
      "DiabetesPedigreeFunction    768 non-null float64\n",
      "Age                         768 non-null int64\n",
      "Outcome                     768 non-null int64\n",
      "dtypes: float64(2), int64(7)\n",
      "memory usage: 54.1 KB\n",
      "None\n"
     ]
    }
   ],
   "source": [
    "print(df.info())"
   ]
  },
  {
   "cell_type": "code",
   "execution_count": 8,
   "metadata": {},
   "outputs": [],
   "source": [
    "#Unexpected Outliers"
   ]
  },
  {
   "cell_type": "code",
   "execution_count": 9,
   "metadata": {},
   "outputs": [
    {
     "data": {
      "image/png": "[encoded data removed]",
      "text/plain": [
       "<Figure size 1368x648 with 1 Axes>"
      ]
     },
     "metadata": {
      "needs_background": "light"
     },
     "output_type": "display_data"
    }
   ],
   "source": [
    "df.boxplot(figsize=(19,9))\n",
    "plt.show()"
   ]
  },
  {
   "cell_type": "code",
   "execution_count": 21,
   "metadata": {},
   "outputs": [
    {
     "data": {
      "image/png": "[encoded data removed]",
      "text/plain": [
       "<Figure size 432x288 with 1 Axes>"
      ]
     },
     "metadata": {
      "needs_background": "light"
     },
     "output_type": "display_data"
    },
    {
     "name": "stdout",
     "output_type": "stream",
     "text": [
      "Outcome\n",
      "0    19\n",
      "1    16\n",
      "dtype: int64\n"
     ]
    }
   ],
   "source": [
    "plt.hist(df['BloodPressure'])\n",
    "plt.show()\n",
    "print(df[df.BloodPressure == 0].groupby('Outcome').size())\n",
    "\n",
    "#By observing the data we can see that there are 0 values for blood pressure. \n",
    "#And it is evident that the readings of the data set seems wrong because a living person cannot have diastolic blood pressure \n",
    "#of zero. By observing the data we can see 35 counts where the value is 0."
   ]
  },
  {
   "cell_type": "code",
   "execution_count": 20,
   "metadata": {},
   "outputs": [
    {
     "data": {
      "image/png": "[encoded data removed]",
      "text/plain": [
       "<Figure size 432x288 with 1 Axes>"
      ]
     },
     "metadata": {
      "needs_background": "light"
     },
     "output_type": "display_data"
    },
    {
     "name": "stdout",
     "output_type": "stream",
     "text": [
      "Outcome\n",
      "0    3\n",
      "1    2\n",
      "dtype: int64\n"
     ]
    }
   ],
   "source": [
    "plt.hist(df['Glucose'])\n",
    "plt.show()\n",
    "print(df[df.Glucose == 0].groupby('Outcome').size())\n",
    "\n",
    "#Glucose level 0 is an invalid reading.By observing the data we can see 5 counts where the value is 0."
   ]
  },
  {
   "cell_type": "code",
   "execution_count": 19,
   "metadata": {},
   "outputs": [
    {
     "data": {
      "image/png": "[encoded data removed]",
      "text/plain": [
       "<Figure size 432x288 with 1 Axes>"
      ]
     },
     "metadata": {
      "needs_background": "light"
     },
     "output_type": "display_data"
    },
    {
     "name": "stdout",
     "output_type": "stream",
     "text": [
      "Outcome\n",
      "0    139\n",
      "1     88\n",
      "dtype: int64\n"
     ]
    }
   ],
   "source": [
    "plt.hist(df['SkinThickness'])\n",
    "plt.show()\n",
    "print(df[df.SkinThickness == 0].groupby('Outcome').size())\n",
    "\n",
    "#For normal people skin fold thickness can’t be less than 10 mm better yet zero. Total count where value is 0 : 227."
   ]
  },
  {
   "cell_type": "code",
   "execution_count": 18,
   "metadata": {},
   "outputs": [
    {
     "data": {
      "image/png": "[encoded data removed]",
      "text/plain": [
       "<Figure size 432x288 with 1 Axes>"
      ]
     },
     "metadata": {
      "needs_background": "light"
     },
     "output_type": "display_data"
    },
    {
     "name": "stdout",
     "output_type": "stream",
     "text": [
      "Outcome\n",
      "0    9\n",
      "1    2\n",
      "dtype: int64\n"
     ]
    }
   ],
   "source": [
    "plt.hist(df['BMI'])\n",
    "plt.show()\n",
    "print(df[df.BMI == 0].groupby('Outcome').size())\n",
    "\n",
    "#BMI : Should not be 0 or close to zero unless the person is really underweight which could be life threatening."
   ]
  },
  {
   "cell_type": "code",
   "execution_count": 22,
   "metadata": {},
   "outputs": [
    {
     "data": {
      "image/png": "[encoded data removed]",
      "text/plain": [
       "<Figure size 432x288 with 1 Axes>"
      ]
     },
     "metadata": {
      "needs_background": "light"
     },
     "output_type": "display_data"
    },
    {
     "name": "stdout",
     "output_type": "stream",
     "text": [
      "Outcome\n",
      "0    236\n",
      "1    138\n",
      "dtype: int64\n"
     ]
    }
   ],
   "source": [
    "plt.hist(df['Insulin'])\n",
    "plt.show()\n",
    "print(df[df.Insulin == 0].groupby('Outcome').size())"
   ]
  },
  {
   "cell_type": "code",
   "execution_count": 23,
   "metadata": {},
   "outputs": [],
   "source": [
    "#By looking at the above points we can coclude that this dataset is incomplete with lot of missing/wrong values.\n",
    "#We can remove rows with these cases but that would mean losing valuable information\n",
    "#Put average/mean values : This might work for some data sets, but in our case putting a mean value to the blood pressure column \n",
    "#would send a wrong signal to the model.\n",
    "# Since that dataset is incomplete let me remove the rows with “BloodPressure”, “BMI” and “Glucose” are zero."
   ]
  },
  {
   "cell_type": "code",
   "execution_count": 24,
   "metadata": {},
   "outputs": [],
   "source": [
    "df_mod=df[(df.BloodPressure != 0) & (df.BMI != 0) & (df.Glucose != 0)].reset_index(drop=True)"
   ]
  },
  {
   "cell_type": "code",
   "execution_count": 25,
   "metadata": {},
   "outputs": [
    {
     "name": "stdout",
     "output_type": "stream",
     "text": [
      "(724, 9)\n"
     ]
    }
   ],
   "source": [
    "print(df_mod.shape)"
   ]
  },
  {
   "cell_type": "code",
   "execution_count": 26,
   "metadata": {},
   "outputs": [
    {
     "name": "stdout",
     "output_type": "stream",
     "text": [
      "   Pregnancies  Glucose  BloodPressure  SkinThickness  Insulin   BMI  \\\n",
      "0            6      148             72             35        0  33.6   \n",
      "1            1       85             66             29        0  26.6   \n",
      "2            8      183             64              0        0  23.3   \n",
      "3            1       89             66             23       94  28.1   \n",
      "4            0      137             40             35      168  43.1   \n",
      "\n",
      "   DiabetesPedigreeFunction  Age  Outcome  \n",
      "0                     0.627   50        1  \n",
      "1                     0.351   31        0  \n",
      "2                     0.672   32        1  \n",
      "3                     0.167   21        0  \n",
      "4                     2.288   33        1  \n",
      "Pregnancies                 0\n",
      "Glucose                     0\n",
      "BloodPressure               0\n",
      "SkinThickness               0\n",
      "Insulin                     0\n",
      "BMI                         0\n",
      "DiabetesPedigreeFunction    0\n",
      "Age                         0\n",
      "Outcome                     0\n",
      "dtype: int64\n"
     ]
    }
   ],
   "source": [
    "print(df_mod.head())\n",
    "#Our modified data set contains 725 onservations. Lets impute the missing values (NaN)\n",
    "#Before that we need to check for outliers. If there are many bad outliers in a variable then better to impute with median than \n",
    "#mean. If there are no outliers then we can impute with mean.\n",
    "print(df_mod.isnull().sum())"
   ]
  },
  {
   "cell_type": "code",
   "execution_count": 27,
   "metadata": {},
   "outputs": [
    {
     "data": {
      "image/png": "[encoded data removed]",
      "text/plain": [
       "<Figure size 1368x648 with 1 Axes>"
      ]
     },
     "metadata": {
      "needs_background": "light"
     },
     "output_type": "display_data"
    }
   ],
   "source": [
    "df_mod.boxplot(figsize=(19,9))\n",
    "plt.show()"
   ]
  },
  {
   "cell_type": "code",
   "execution_count": 28,
   "metadata": {},
   "outputs": [
    {
     "name": "stdout",
     "output_type": "stream",
     "text": [
      "<class 'pandas.core.frame.DataFrame'>\n",
      "RangeIndex: 724 entries, 0 to 723\n",
      "Data columns (total 9 columns):\n",
      "Pregnancies                 724 non-null int64\n",
      "Glucose                     724 non-null int64\n",
      "BloodPressure               724 non-null int64\n",
      "SkinThickness               724 non-null int64\n",
      "Insulin                     724 non-null int64\n",
      "BMI                         724 non-null float64\n",
      "DiabetesPedigreeFunction    724 non-null float64\n",
      "Age                         724 non-null int64\n",
      "Outcome                     724 non-null int64\n",
      "dtypes: float64(2), int64(7)\n",
      "memory usage: 51.0 KB\n"
     ]
    }
   ],
   "source": [
    "df_mod.info()"
   ]
  },
  {
   "cell_type": "code",
   "execution_count": 29,
   "metadata": {},
   "outputs": [
    {
     "name": "stdout",
     "output_type": "stream",
     "text": [
      "80     15\n",
      "150    17\n",
      "282    14\n",
      "427    14\n",
      "Name: Pregnancies, dtype: int64\n",
      "Series([], Name: Glucose, dtype: int64)\n",
      "15      30\n",
      "40     110\n",
      "76     108\n",
      "98     122\n",
      "117     30\n",
      "167    110\n",
      "339    108\n",
      "514    110\n",
      "561     24\n",
      "563     38\n",
      "618    106\n",
      "622    106\n",
      "632    106\n",
      "650    114\n",
      "Name: BloodPressure, dtype: int64\n",
      "544    99\n",
      "Name: SkinThickness, dtype: int64\n",
      "7      543\n",
      "11     846\n",
      "50     342\n",
      "103    495\n",
      "144    485\n",
      "175    495\n",
      "208    478\n",
      "215    744\n",
      "218    370\n",
      "234    680\n",
      "235    402\n",
      "245    375\n",
      "270    545\n",
      "280    360\n",
      "347    465\n",
      "368    415\n",
      "385    579\n",
      "391    474\n",
      "451    328\n",
      "456    480\n",
      "539    330\n",
      "549    600\n",
      "605    440\n",
      "615    540\n",
      "654    480\n",
      "663    335\n",
      "666    387\n",
      "671    392\n",
      "709    510\n",
      "Name: Insulin, dtype: int64\n",
      "112    53.2\n",
      "117    55.0\n",
      "167    67.1\n",
      "234    52.3\n",
      "286    52.9\n",
      "418    59.4\n",
      "633    57.3\n",
      "Name: BMI, dtype: float64\n",
      "4      2.288\n",
      "10     1.441\n",
      "36     1.390\n",
      "42     1.893\n",
      "54     1.781\n",
      "92     1.222\n",
      "138    1.400\n",
      "176    1.321\n",
      "206    1.224\n",
      "215    2.329\n",
      "230    1.318\n",
      "232    1.213\n",
      "246    1.353\n",
      "276    1.224\n",
      "291    1.391\n",
      "313    1.476\n",
      "347    2.137\n",
      "359    1.268\n",
      "371    1.600\n",
      "418    2.420\n",
      "500    1.251\n",
      "557    1.699\n",
      "568    1.258\n",
      "580    1.282\n",
      "582    1.698\n",
      "583    1.461\n",
      "619    1.292\n",
      "621    1.394\n",
      "Name: DiabetesPedigreeFunction, dtype: float64\n",
      "115    69\n",
      "340    67\n",
      "431    81\n",
      "459    67\n",
      "502    67\n",
      "626    70\n",
      "634    68\n",
      "Name: Age, dtype: int64\n"
     ]
    }
   ],
   "source": [
    "#There many outliers in 'Insulin','BloodPressure','DiabetesPedigreeFunction'. let me impute outliers with median.\n",
    "columns=list(df_mod)\n",
    "for col_nm in columns[:-1]:\n",
    "    L=df_mod[col_nm].quantile(0.25)-(1.5*(df_mod[col_nm].quantile(0.75)-df_mod[col_nm].quantile(0.25)))\n",
    "    U=df_mod[col_nm].quantile(0.75)+(1.5*(df_mod[col_nm].quantile(0.75)-df_mod[col_nm].quantile(0.25)))\n",
    "    print(df_mod[col_nm].loc[np.where((df_mod[col_nm]< L) | (df_mod[col_nm] > U))])  #outliers in each feature\n",
    "    df_mod.loc[(df_mod[col_nm]< L) | (df_mod[col_nm] > U),col_nm] = df_mod[col_nm].median()"
   ]
  },
  {
   "cell_type": "code",
   "execution_count": 30,
   "metadata": {},
   "outputs": [
    {
     "name": "stdout",
     "output_type": "stream",
     "text": [
      "   Pregnancies  Glucose  BloodPressure  SkinThickness  Insulin   BMI  \\\n",
      "0          6.0    148.0           72.0           35.0      0.0  33.6   \n",
      "1          1.0     85.0           66.0           29.0      0.0  26.6   \n",
      "2          8.0    183.0           64.0            0.0      0.0  23.3   \n",
      "3          1.0     89.0           66.0           23.0     94.0  28.1   \n",
      "4          0.0    137.0           40.0           35.0    168.0  43.1   \n",
      "\n",
      "   DiabetesPedigreeFunction   Age  Outcome  \n",
      "0                     0.627  50.0        1  \n",
      "1                     0.351  31.0        0  \n",
      "2                     0.672  32.0        1  \n",
      "3                     0.167  21.0        0  \n",
      "4                     0.379  33.0        1  \n"
     ]
    }
   ],
   "source": [
    "print(df_mod.head())"
   ]
  },
  {
   "cell_type": "code",
   "execution_count": 31,
   "metadata": {},
   "outputs": [
    {
     "data": {
      "image/png": "[encoded data removed]",
      "text/plain": [
       "<Figure size 1368x648 with 1 Axes>"
      ]
     },
     "metadata": {
      "needs_background": "light"
     },
     "output_type": "display_data"
    }
   ],
   "source": [
    "#Now we have imputed outliers with median. Let us use boxplot and see the effect.\n",
    "df_mod.boxplot(figsize=(19,9))\n",
    "plt.show()"
   ]
  },
  {
   "cell_type": "code",
   "execution_count": 32,
   "metadata": {},
   "outputs": [],
   "source": [
    "#We can replace the missing values with mean value of the variable for corresponding Outcome. \n",
    "df1=df_mod.groupby('Outcome').apply(lambda x: x.fillna(x.mean())).reset_index(drop=True)"
   ]
  },
  {
   "cell_type": "code",
   "execution_count": 33,
   "metadata": {},
   "outputs": [],
   "source": [
    "\n",
    "X_train, X_test, Y_train, Y_test = train_test_split(df1.iloc[:,:-1], df1.iloc[:,8], test_size = 0.2, random_state = 0)"
   ]
  },
  {
   "cell_type": "code",
   "execution_count": 34,
   "metadata": {},
   "outputs": [
    {
     "data": {
      "text/plain": [
       "Outcome\n",
       "0    385\n",
       "1    194\n",
       "dtype: int64"
      ]
     },
     "execution_count": 34,
     "metadata": {},
     "output_type": "execute_result"
    }
   ],
   "source": [
    "train=X_train.join(Y_train)\n",
    "train1=train.reset_index(drop=True)\n",
    "train1.groupby('Outcome').size()"
   ]
  },
  {
   "cell_type": "code",
   "execution_count": 35,
   "metadata": {},
   "outputs": [
    {
     "name": "stdout",
     "output_type": "stream",
     "text": [
      "<class 'pandas.core.frame.DataFrame'>\n",
      "RangeIndex: 579 entries, 0 to 578\n",
      "Data columns (total 9 columns):\n",
      "Pregnancies                 579 non-null float64\n",
      "Glucose                     579 non-null float64\n",
      "BloodPressure               579 non-null float64\n",
      "SkinThickness               579 non-null float64\n",
      "Insulin                     579 non-null float64\n",
      "BMI                         579 non-null float64\n",
      "DiabetesPedigreeFunction    579 non-null float64\n",
      "Age                         579 non-null float64\n",
      "Outcome                     579 non-null int64\n",
      "dtypes: float64(8), int64(1)\n",
      "memory usage: 40.8 KB\n"
     ]
    }
   ],
   "source": [
    "train1.info()"
   ]
  },
  {
   "cell_type": "markdown",
   "metadata": {},
   "source": [
    "# Prediction using Logistic regression"
   ]
  },
  {
   "cell_type": "code",
   "execution_count": 36,
   "metadata": {},
   "outputs": [
    {
     "name": "stderr",
     "output_type": "stream",
     "text": [
      "C:\\Users\\EJ325343\\AppData\\Local\\Continuum\\anaconda3\\lib\\site-packages\\sklearn\\linear_model\\logistic.py:433: FutureWarning: Default solver will be changed to 'lbfgs' in 0.22. Specify a solver to silence this warning.\n",
      "  FutureWarning)\n"
     ]
    },
    {
     "data": {
      "text/plain": [
       "LogisticRegression(C=1.0, class_weight=None, dual=False, fit_intercept=True,\n",
       "          intercept_scaling=1, max_iter=100, multi_class='warn',\n",
       "          n_jobs=None, penalty='l2', random_state=None, solver='warn',\n",
       "          tol=0.0001, verbose=0, warm_start=False)"
      ]
     },
     "execution_count": 36,
     "metadata": {},
     "output_type": "execute_result"
    }
   ],
   "source": [
    "model=LogisticRegression()\n",
    "model.fit(X_train,Y_train)"
   ]
  },
  {
   "cell_type": "code",
   "execution_count": 37,
   "metadata": {},
   "outputs": [],
   "source": [
    "predicted=model.predict(X_test)"
   ]
  },
  {
   "cell_type": "code",
   "execution_count": 38,
   "metadata": {},
   "outputs": [],
   "source": [
    "cm=confusion_matrix(Y_test,predicted,labels=[0,1])"
   ]
  },
  {
   "cell_type": "code",
   "execution_count": 39,
   "metadata": {},
   "outputs": [],
   "source": [
    "cm_df=pd.DataFrame(cm,index=['Negative', 'Positive'],columns=['Negative', 'Positive'])"
   ]
  },
  {
   "cell_type": "code",
   "execution_count": 40,
   "metadata": {},
   "outputs": [
    {
     "data": {
      "image/png": "[encoded data removed]",
      "text/plain": [
       "<Figure size 432x288 with 2 Axes>"
      ]
     },
     "metadata": {
      "needs_background": "light"
     },
     "output_type": "display_data"
    }
   ],
   "source": [
    "plt.figure()\n",
    "ax=sns.heatmap(cm_df,annot=True)\n",
    "plt.ylabel('actual')\n",
    "plt.xlabel('predicted')\n",
    "plt.show()"
   ]
  },
  {
   "cell_type": "code",
   "execution_count": null,
   "metadata": {},
   "outputs": [],
   "source": []
  }
 ],
 "metadata": {
  "kernelspec": {
   "display_name": "Python 3",
   "language": "python",
   "name": "python3"
  },
  "language_info": {
   "codemirror_mode": {
    "name": "ipython",
    "version": 3
   },
   "file_extension": ".py",
   "mimetype": "text/x-python",
   "name": "python",
   "nbconvert_exporter": "python",
   "pygments_lexer": "ipython3",
   "version": "3.7.3"
  }
 },
 "nbformat": 4,
 "nbformat_minor": 2
}
